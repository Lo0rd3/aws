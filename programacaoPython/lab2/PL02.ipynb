{
 "cells": [
  {
   "cell_type": "markdown",
   "id": "4e7bfec9",
   "metadata": {},
   "source": [
    "ex1"
   ]
  },
  {
   "cell_type": "code",
   "execution_count": null,
   "id": "ea536f18",
   "metadata": {},
   "outputs": [],
   "source": [
    "sentence=input('Please input a sentence:')\n",
    "#verify if word is in a sentence\n",
    "word=input ('Please input a word to search for:')\n",
    "if word in sentence:\n",
    "    print('The word you are looking for is in the sentence.')\n",
    "else:\n",
    "    print('The word you are looking for is not present in the sentence.')\n",
    "#replace spaces with -\n",
    "print('\\nReplace spaces with - in the sentence.')\n",
    "print (sentence.replace(\" \", \"-\"))\n",
    "\n",
    "#verify if strates with \"hello\" or ends with \"!\"\n",
    "\n",
    "if (sentence.split())[0].lower() == \"hello\":\n",
    "    print(\"The sentence starts with hello.\")\n",
    "else:\n",
    "    print(\"The sentence does NOT start with hello.\")\n",
    "\n",
    "if sentence[-1:] ==\"!\":\n",
    "    print (\"The sentence ends with !\")\n",
    "else:\n",
    "    print(\"The sentence does NOT end with !\")\n",
    "\n",
    "\n",
    "\n",
    "    "
   ]
  },
  {
   "cell_type": "markdown",
   "id": "6848b005",
   "metadata": {},
   "source": [
    "ex2"
   ]
  },
  {
   "cell_type": "code",
   "execution_count": null,
   "id": "de0f17fb",
   "metadata": {},
   "outputs": [],
   "source": [
    "#ask to input a sentence\n",
    "sentence=input(\"Please input a sentence:\\n\")\n",
    "\n",
    "#start variables\n",
    "counter=0\n",
    "\n",
    "#counter of characters\n",
    "\n",
    "for char in sentence:\n",
    "    counter+=1\n",
    "\n",
    "print(f\"There are {counter} characters in your sentence.\")\n",
    "#print the input in uppercase\n",
    "print (sentence.upper())\n",
    "#capilalize the sentence\n",
    "print(sentence.capitalize())\n",
    "#does the sentence only letter?\n",
    "print(f\"Is your input only letters? {sentence.isalpha()}\")\n",
    "#split of the sentence\n",
    "print (f\"Your sentence split:\\n {sentence.split()}\")"
   ]
  },
  {
   "cell_type": "markdown",
   "id": "76a78ebb",
   "metadata": {},
   "source": [
    "ex3a"
   ]
  },
  {
   "cell_type": "code",
   "execution_count": null,
   "id": "6c6379e8",
   "metadata": {},
   "outputs": [],
   "source": [
    "#ask user for his name\n",
    "name =input(\"Please input your name:\")\n",
    "#ask user for his age\n",
    "age=int(input(\"Please input your age:\"))\n",
    "\n",
    "print(f\"Hello! {name} you're {age} years old.\")"
   ]
  },
  {
   "cell_type": "markdown",
   "id": "1714ebe3",
   "metadata": {},
   "source": [
    "ex3b"
   ]
  },
  {
   "cell_type": "code",
   "execution_count": null,
   "id": "8b012fe9",
   "metadata": {},
   "outputs": [],
   "source": [
    "#ask to input radius\n",
    "radius=float(input(\"Please input the radius of your circunference:\"))\n",
    "\n",
    "area=(radius*radius)*3.14159265359\n",
    "\n",
    "print (f\"The area of your circle is {area:.2f}.\")\n",
    "\n"
   ]
  },
  {
   "cell_type": "markdown",
   "id": "3110ac24",
   "metadata": {},
   "source": [
    "ex4"
   ]
  },
  {
   "cell_type": "code",
   "execution_count": null,
   "id": "cdd5885e",
   "metadata": {},
   "outputs": [],
   "source": [
    "#ask to input a sentence\n",
    "sentence=input(\"Please input a sentence:\\n\")\n",
    "\n",
    "#start variables\n",
    "counter=0\n",
    "vowels=\"aeiou\"\n",
    "\n",
    "#counter of vowels\n",
    "for char in sentence:\n",
    "    if char.lower() in vowels:\n",
    "        counter+=1\n",
    "print(f\"There are {counter} vowels in your sentence.\")\n",
    "\n",
    "#sentence backwards\n",
    "print(f\"Your sentence backwards:\\n{sentence[::-1]}\")\n",
    "#sentence split\n",
    "print(f\"Your sentence split:\\n{sentence.split()}\")\n",
    "#join a list \n",
    "words=sentence.split()\n",
    "\n",
    "print(\":\" .join(words))"
   ]
  },
  {
   "cell_type": "markdown",
   "id": "9744d22a",
   "metadata": {},
   "source": [
    "ex5"
   ]
  },
  {
   "cell_type": "code",
   "execution_count": null,
   "id": "461ed695",
   "metadata": {},
   "outputs": [],
   "source": [
    "#ask user to input a name\n",
    "name =input(\"Please input your name:\")\n",
    "#verify is is only letters and print results\n",
    "while name.isalpha()==False:\n",
    "    name =input(\"Please input only letters!\\nPlease input your name:\")\n",
    "print (name.upper())"
   ]
  },
  {
   "cell_type": "markdown",
   "id": "9442c226",
   "metadata": {},
   "source": [
    "ex6"
   ]
  },
  {
   "cell_type": "code",
   "execution_count": null,
   "id": "abce2ecc",
   "metadata": {},
   "outputs": [],
   "source": [
    "password=\"python\"\n",
    "\n",
    "word=input(\"Guess the Password:\")\n",
    "\n",
    "while word.lower() != password:\n",
    "    word=input(\"Wrong! Please guess the Password again:\")\n",
    "print(\"\" \\\n",
    "\"HOOO! HACKERMAN!!\")"
   ]
  },
  {
   "cell_type": "markdown",
   "id": "bdaf45ff",
   "metadata": {},
   "source": [
    "ex7"
   ]
  },
  {
   "cell_type": "code",
   "execution_count": null,
   "id": "ab804f57",
   "metadata": {},
   "outputs": [],
   "source": [
    "phrase=\"Python is amazing!\"\n",
    "\n",
    "print(phrase[0])\n",
    "\n",
    "print (phrase[:3])\n",
    "\n",
    "print (phrase[-5:])\n"
   ]
  },
  {
   "cell_type": "markdown",
   "id": "0aed21bd",
   "metadata": {},
   "source": [
    "ex8"
   ]
  },
  {
   "cell_type": "code",
   "execution_count": null,
   "id": "6ec265ec",
   "metadata": {},
   "outputs": [],
   "source": [
    "phrase='''O Impacto da Tecnologia na Sustentabilidade\n",
    "\n",
    "A tecnologia tem desempenhado um papel crucial na busca por um futuro mais sustentável. Inovações como energias renováveis, redes elétricas inteligentes e veículos elétricos estão reduzindo a dependência de combustíveis fósseis e minimizando as emissões de carbono. Além disso, sensores IoT (Internet das Coisas) permitem o monitoramento em tempo real de recursos naturais, otimizando o uso da água na agricultura e evitando desperdícios. Esses avanços não apenas preservam o meio ambiente, mas também impulsionam economias, criando empregos em setores verdes e incentivando modelos de negócios circulares. A integração entre inovação e sustentabilidade é, portanto, um caminho essencial para enfrentar desafios globais, como as mudanças climáticas.\n",
    "\n",
    "Contudo, o progresso tecnológico também traz dilemas. A produção em massa de dispositivos eletrônicos gera resíduos difíceis de reciclar, agravando problemas como o acúmulo de lixo tecnológico. Data centers, fundamentais para a era digital, consomem quantidades imensas de energia, muitas vezes proveniente de fontes não renováveis. Além disso, a desigualdade no acesso à tecnologia pode aprofundar disparidades sociais, deixando comunidades marginalizadas sem recursos para adotar soluções sustentáveis. Para que a tecnologia cumpra seu potencial positivo, é necessário priorizar ética, regulamentação rigorosa e investimento em pesquisas que equilibrem inovação e responsabilidade ambiental. Só assim será possível garantir um avanço que beneficie tanto a humanidade quanto o planeta.\n",
    "\n",
    "'''\n",
    "print (phrase)\n",
    "word=input(\"Please input the word to search for:\")\n",
    "\n",
    "while True:\n",
    "    if word in phrase:\n",
    "        print (f\"The word {word} is in the phrase.\")\n",
    "        break\n",
    "    else:\n",
    "        word=input(\"The word you're looking for is not in the sentence, try again:\\n\")"
   ]
  }
 ],
 "metadata": {
  "kernelspec": {
   "display_name": "Python 3",
   "language": "python",
   "name": "python3"
  },
  "language_info": {
   "name": "python",
   "version": "3.11.2"
  }
 },
 "nbformat": 4,
 "nbformat_minor": 5
}
