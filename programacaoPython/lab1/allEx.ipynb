{
 "cells": [
  {
   "cell_type": "markdown",
   "id": "e40508cf",
   "metadata": {},
   "source": [
    "ex1"
   ]
  },
  {
   "cell_type": "code",
   "execution_count": null,
   "id": "0471dbd4",
   "metadata": {},
   "outputs": [
    {
     "ename": "",
     "evalue": "",
     "output_type": "error",
     "traceback": [
      "\u001b[1;31mRunning cells with 'Python 3.11.2' requires the ipykernel package.\n",
      "\u001b[1;31m<a href='command:jupyter.createPythonEnvAndSelectController'>Create a Python Environment</a> with the required packages.\n",
      "\u001b[1;31mOr install 'ipykernel' using the command: '/bin/python3 -m pip install ipykernel -U --user --force-reinstall'"
     ]
    }
   ],
   "source": [
    "#ask user to input average balance\n",
    "bal=float(input(\"Please input the average balance:\"))\n",
    "#calculate credit\n",
    "if bal <= 200:\n",
    "    print(f\"You have no credit. Your average balance is {bal}\")\n",
    "elif bal>=201 and bal<=400:\n",
    "    print(f\"You have 20% credit.\\nYour average balance is:{bal}€.\\nYou have {bal*0.2}€ in credit.\")\n",
    "elif bal>=401 and bal<=600:\n",
    "    print(f\"You have 30% credit.\\nYour average balance is:{bal}€.\\nYou have {bal*0.3}€ in credit.\")\n",
    "else :\n",
    "    print(f\"You have 40% credit.\\nYour average balance is:{bal}€.\\nYou have {bal*0.4}€ in credit.\")"
   ]
  },
  {
   "cell_type": "markdown",
   "id": "1706fd5e",
   "metadata": {},
   "source": [
    "ex2"
   ]
  },
  {
   "cell_type": "code",
   "execution_count": null,
   "id": "35c02030",
   "metadata": {},
   "outputs": [],
   "source": [
    "#aks user to input the starting salary\n",
    "salary=float(input(\"Please input the starting salary: \"))\n",
    "#ask user to input  the code for the position\n",
    "position=int(input(\"101-Manager\\n102-Engineer\\n103-Technician\\n000-Other\\nPlease insert te correct code for the position: \"))\n",
    "#calculations\n",
    "if position==101:\n",
    "    increase=salary*0.25\n",
    "    finalSalary= salary+increase\n",
    "    print (f\"Starting salary:{salary}€\\nRaise:{increase}\\nUpdated salary:{finalSalary}\")\n",
    "elif position==102:\n",
    "    increase=salary*0.2\n",
    "    finalSalary= salary+increase\n",
    "    print (f\"Starting salary:{salary}€\\nRaise:{increase}\\nUpdated salary:{finalSalary}\")\n",
    "elif position==103:\n",
    "    increase=salary*0.15\n",
    "    finalSalary= salary+increase\n",
    "    print (f\"Starting salary:{salary}€\\nRaise:{increase}\\nUpdated salary:{finalSalary}\")\n",
    "else:\n",
    "    increase=salary*0.10\n",
    "    finalSalary= salary+increase\n",
    "    print (f\"Starting salary:{salary}€\\nRaise:{increase}\\nUpdated salary:{finalSalary}\")"
   ]
  },
  {
   "cell_type": "markdown",
   "id": "c2162048",
   "metadata": {},
   "source": [
    "ex3-(2 soluções)"
   ]
  },
  {
   "cell_type": "code",
   "execution_count": null,
   "id": "f71f7f42",
   "metadata": {},
   "outputs": [],
   "source": [
    "#ask user for how many students he wants to add\n",
    "students=int (input(\"Please input how many students you have:\"))\n",
    "\n",
    "total=0\n",
    "\n",
    "for i in range(students):\n",
    "    if i ==0:\n",
    "        while True:\n",
    "            score=int(input(\"Please insert the first student score[0-20]:\"))\n",
    "            if score < 0 or score>20:\n",
    "                print(\"Wrong score! please input a grade betwen 0 and 20\")\n",
    "            else:\n",
    "                break\n",
    "    else:\n",
    "        while True:\n",
    "            score=int(input(\"Please insert the next student score[0-20]:\"))\n",
    "            if score < 0 or score>20:\n",
    "                print(\"Wrong score! please input a grade betwen 0 and 20\")\n",
    "            else:\n",
    "                break\n",
    "    total+=score\n",
    "\n",
    "average=total/students\n",
    "print(f\"The average score of your students is: {average}\")\n",
    "\n",
    "\n",
    "\n"
   ]
  },
  {
   "cell_type": "code",
   "execution_count": null,
   "id": "b09b4a06",
   "metadata": {},
   "outputs": [],
   "source": [
    "counter=0\n",
    "sum=0\n",
    "\n",
    "while True:\n",
    "    if counter ==0:\n",
    "       while True:\n",
    "            score=int(input(\"Please insert the first student score[0-20]:\"))\n",
    "            if score < 0 or score>20:\n",
    "                print(\"Wrong score! please input a grade betwen 0 and 20\")\n",
    "            else:\n",
    "                break\n",
    "    else:\n",
    "        while True:\n",
    "            score=int(input(\"Please insert the next student score[0-20]:\"))\n",
    "            if score < 0 or score>20:\n",
    "                print(\"Wrong score! please input a grade betwen 0 and 20\")\n",
    "            else:\n",
    "                break\n",
    "    counter +=1\n",
    "    sum+=score\n",
    "    \n",
    "    proceed=\"a\"    \n",
    "    while proceed !=\"y\" and proceed!=\"n\":\n",
    "        proceed=input(\"Do you want to add another student? y/n:\")\n",
    "        if proceed !=\"y\" and proceed !=\"n\":\n",
    "            print(\"Error! Please reply with y or n\")\n",
    "    if proceed==\"n\":\n",
    "        average=sum/counter\n",
    "        print(f\"The average score of your students is:{average}\")\n",
    "        break\n"
   ]
  },
  {
   "cell_type": "markdown",
   "id": "9b606fe1",
   "metadata": {},
   "source": [
    "ex4"
   ]
  },
  {
   "cell_type": "code",
   "execution_count": null,
   "id": "1ed4184b",
   "metadata": {},
   "outputs": [],
   "source": [
    "#ask for number of students\n",
    "students=int(input(\"How many students do you have?\\n\"))\n",
    "#ask for grade \n",
    "negative=0\n",
    "positive=0\n",
    "for i in range(students):\n",
    "    while True:\n",
    "        if i==0:\n",
    "            score=float(input(\"Please insert the first student score[0-20]:\"))\n",
    "        else:\n",
    "            score=float(input(\"Please insert the next student score[0-20]:\"))\n",
    "                \n",
    "        if score < 0 or score>20:\n",
    "            print(\"Wrong score! please input a grade betwen 0 and 20\")\n",
    "        else:\n",
    "            break\n",
    "    if score<=9.5:\n",
    "        negative+=1\n",
    "    else:\n",
    "        positive+=1\n",
    "print(f\"{positive} of your students passed and {negative} failed.\")"
   ]
  },
  {
   "cell_type": "markdown",
   "id": "c1692419",
   "metadata": {},
   "source": [
    "ex5"
   ]
  },
  {
   "cell_type": "code",
   "execution_count": null,
   "id": "976bf35b",
   "metadata": {},
   "outputs": [],
   "source": [
    "#ask for  number\n",
    "starting=int(input(\"Please insert the starting number:\"))\n",
    "#ask for last number\n",
    "final=int(input(\"Please insert the final number:\"))\n",
    "\n",
    "if starting<final:\n",
    "    for i in range(starting,(final+1)):\n",
    "        if i%2 ==0:\n",
    "            print(i)\n",
    "        else:\n",
    "            continue\n",
    "elif starting>final:\n",
    "    for i in range(starting,(final-1),-1):\n",
    "        if i%2==0:\n",
    "            print(i)\n",
    "        else:\n",
    "            continue\n",
    "else:\n",
    "    print(\"The numbers are the same\")"
   ]
  },
  {
   "cell_type": "markdown",
   "id": "7fef9cab",
   "metadata": {},
   "source": [
    "ex6"
   ]
  },
  {
   "cell_type": "code",
   "execution_count": null,
   "id": "0d4e8a32",
   "metadata": {},
   "outputs": [],
   "source": [
    "calc=0\n",
    "while True:\n",
    "    if calc==0:\n",
    "        number=float(input(\"Please input the first number to add: \"))\n",
    "    else:\n",
    "        number=float(input(\"Stop by adding 0.\\nPlease input the next number to add: \"))\n",
    "    if number !=0:\n",
    "        calc=calc+number\n",
    "    else:\n",
    "        print(f\"The result of your calculation is: {calc}\")\n",
    "        break"
   ]
  },
  {
   "cell_type": "markdown",
   "id": "fce2cc64",
   "metadata": {},
   "source": [
    "ex7\n"
   ]
  },
  {
   "cell_type": "code",
   "execution_count": null,
   "id": "5bd4571e",
   "metadata": {},
   "outputs": [],
   "source": [
    "students=int(input(\"How many students does your class have?\\n\"))\n",
    "threshold=int(input(\"what is the threshold of age?\\n\"))\n",
    "older=0\n",
    "for i in range(students):\n",
    "    while True:\n",
    "        age=int(input(\"Please input the age of your student:\"))\n",
    "        if age< 0 or age >=115:\n",
    "            print(\"Please insert a valid age[0-115]\")\n",
    "        else:\n",
    "            if age>threshold:\n",
    "                older+=1\n",
    "            break\n",
    "            \n",
    "percentage=(older/students)*100\n",
    "print(f\"{percentage}% of your class is older than {threshold} years old.\")"
   ]
  },
  {
   "cell_type": "markdown",
   "id": "5bd1c8f4",
   "metadata": {},
   "source": [
    "ex8"
   ]
  },
  {
   "cell_type": "code",
   "execution_count": null,
   "id": "826379ea",
   "metadata": {},
   "outputs": [],
   "source": [
    "bigPair=0\n",
    "oddCounter=0\n",
    "while oddCounter<5:\n",
    "    number=int(input(\"Please input a number:\"))\n",
    "    if number%2==0:\n",
    "        if number>bigPair:\n",
    "            bigPair=number\n",
    "    else:\n",
    "        oddCounter+=1\n",
    "if bigPair==0:\n",
    "    print(\"You didn't input a pair! start again!\")\n",
    "else:\n",
    "    print(f\"The biggest pair you entered was:{bigPair}\")"
   ]
  },
  {
   "cell_type": "markdown",
   "id": "ff5e0e86",
   "metadata": {},
   "source": [
    "ex9"
   ]
  },
  {
   "cell_type": "code",
   "execution_count": null,
   "id": "33113755",
   "metadata": {},
   "outputs": [],
   "source": [
    "counter=0\n",
    "total=0\n",
    "\n",
    "while total<100 or counter<5:\n",
    "    number=int(input(\"Please input a number:\"))\n",
    "    total+=number\n",
    "    counter+=1\n",
    "else:\n",
    "    print(f\"The result of sum is:{total}\")"
   ]
  }
 ],
 "metadata": {
  "kernelspec": {
   "display_name": "Python 3",
   "language": "python",
   "name": "python3"
  },
  "language_info": {
   "name": "python",
   "version": "3.11.2"
  }
 },
 "nbformat": 4,
 "nbformat_minor": 5
}
